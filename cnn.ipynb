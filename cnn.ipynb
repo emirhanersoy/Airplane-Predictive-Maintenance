{
 "cells": [
  {
   "cell_type": "code",
   "execution_count": 1,
   "id": "0b37a6b3-617e-4369-b0cb-f8a2748cbc2f",
   "metadata": {
    "tags": []
   },
   "outputs": [],
   "source": [
    "import pandas as pd\n",
    "import numpy as np\n",
    "from sklearn.model_selection import train_test_split\n",
    "from sklearn.preprocessing import StandardScaler\n",
    "from sklearn.metrics import mean_squared_error, r2_score\n",
    "import matplotlib.pyplot as plt\n",
    "import seaborn as sns\n",
    "from tensorflow.keras.models import Sequential\n",
    "from tensorflow.keras.layers import Conv1D, MaxPooling1D, Flatten, Dense, Dropout\n",
    "from tensorflow.keras.optimizers import Adam"
   ]
  },
  {
   "cell_type": "code",
   "execution_count": 2,
   "id": "050084ff-2fc5-438c-b3ab-f245162eba13",
   "metadata": {
    "tags": []
   },
   "outputs": [],
   "source": [
    "# Veri yükleme\n",
    "train_df = pd.read_csv('PM_train.csv')\n",
    "test_df = pd.read_csv('PM_test.csv')\n",
    "truth_df = pd.read_csv('PM_truth.csv')"
   ]
  },
  {
   "cell_type": "code",
   "execution_count": 3,
   "id": "e3999b06-b725-4711-bb8e-c650203132f4",
   "metadata": {
    "tags": []
   },
   "outputs": [],
   "source": [
    "# Veri ön işleme\n",
    "def preprocess_data(df):\n",
    "    df = df.drop(['setting3', 's1', 's5', 's10', 's16', 's18', 's19'], axis=1)\n",
    "    last_cycles = df.groupby('id')['cycle'].max().reset_index()\n",
    "    last_cycles.columns = ['id', 'max_cycle']\n",
    "    df = pd.merge(df, last_cycles, on='id', how='left')\n",
    "    df['RUL'] = df['max_cycle'] - df['cycle']\n",
    "    return df\n",
    "\n",
    "train_df = preprocess_data(train_df)\n",
    "test_df = preprocess_data(test_df)"
   ]
  },
  {
   "cell_type": "code",
   "execution_count": 4,
   "id": "2049dfb6-84bd-4af8-b5a4-48d3b36fd4ba",
   "metadata": {
    "tags": []
   },
   "outputs": [],
   "source": [
    "# Özellik seçimi\n",
    "features = ['setting1', 'setting2', 'cycle'] + [f's{i}' for i in range(2, 22) if i not in [5, 10, 16, 18, 19]]"
   ]
  },
  {
   "cell_type": "code",
   "execution_count": 5,
   "id": "bda47287-0e74-4996-ad57-e4c823cf617a",
   "metadata": {
    "tags": []
   },
   "outputs": [],
   "source": [
    "# Veri hazırlama fonksiyonu\n",
    "def prepare_data(df, sequence_length=10):\n",
    "    data = []\n",
    "    labels = []\n",
    "    for id in df['id'].unique():\n",
    "        df_id = df[df['id'] == id]\n",
    "        for i in range(len(df_id) - sequence_length + 1):\n",
    "            data.append(df_id[features].iloc[i:i+sequence_length].values)\n",
    "            labels.append(df_id['RUL'].iloc[i+sequence_length-1])\n",
    "    return np.array(data), np.array(labels)"
   ]
  },
  {
   "cell_type": "code",
   "execution_count": 6,
   "id": "1cd0b2fd-bbd5-4b80-9316-49c47ab87423",
   "metadata": {
    "tags": []
   },
   "outputs": [],
   "source": [
    "# Veriyi hazırla\n",
    "X, y = prepare_data(train_df)\n",
    "\n",
    "# Veriyi böl\n",
    "X_train, X_val, y_train, y_val = train_test_split(X, y, test_size=0.2, random_state=42)"
   ]
  },
  {
   "cell_type": "code",
   "execution_count": 7,
   "id": "951bbfdb-dc0e-4a48-8068-f79c91f93ec8",
   "metadata": {
    "tags": []
   },
   "outputs": [],
   "source": [
    "# Veriyi ölçeklendir\n",
    "scaler = StandardScaler()\n",
    "X_train_scaled = scaler.fit_transform(X_train.reshape(-1, X_train.shape[-1])).reshape(X_train.shape)\n",
    "X_val_scaled = scaler.transform(X_val.reshape(-1, X_val.shape[-1])).reshape(X_val.shape)"
   ]
  },
  {
   "cell_type": "code",
   "execution_count": 8,
   "id": "5f6e8fe1-05cd-4647-ab27-b92db694d020",
   "metadata": {
    "tags": []
   },
   "outputs": [
    {
     "name": "stderr",
     "output_type": "stream",
     "text": [
      "C:\\Users\\Emirhan\\AppData\\Roaming\\Python\\Python311\\site-packages\\keras\\src\\layers\\convolutional\\base_conv.py:107: UserWarning: Do not pass an `input_shape`/`input_dim` argument to a layer. When using Sequential models, prefer using an `Input(shape)` object as the first layer in the model instead.\n",
      "  super().__init__(activity_regularizer=activity_regularizer, **kwargs)\n"
     ]
    }
   ],
   "source": [
    "# CNN modelini oluştur\n",
    "model = Sequential([\n",
    "    Conv1D(filters=64, kernel_size=3, activation='relu', input_shape=(X_train.shape[1], X_train.shape[2])),\n",
    "    MaxPooling1D(pool_size=2),\n",
    "    Conv1D(filters=32, kernel_size=3, activation='relu'),\n",
    "    MaxPooling1D(pool_size=2),\n",
    "    Flatten(),\n",
    "    Dense(50, activation='relu'),\n",
    "    Dropout(0.3),\n",
    "    Dense(1)\n",
    "])\n",
    "\n",
    "model.compile(optimizer=Adam(learning_rate=0.001), loss='mse', metrics=['mae'])"
   ]
  },
  {
   "cell_type": "code",
   "execution_count": 9,
   "id": "6174f06d-6eb3-4347-9edb-62326522cc26",
   "metadata": {
    "tags": []
   },
   "outputs": [
    {
     "name": "stdout",
     "output_type": "stream",
     "text": [
      "Epoch 1/100\n",
      "\u001b[1m494/494\u001b[0m \u001b[32m━━━━━━━━━━━━━━━━━━━━\u001b[0m\u001b[37m\u001b[0m \u001b[1m3s\u001b[0m 3ms/step - loss: 5065.3086 - mae: 51.2292 - val_loss: 1358.1954 - val_mae: 26.2909\n",
      "Epoch 2/100\n",
      "\u001b[1m494/494\u001b[0m \u001b[32m━━━━━━━━━━━━━━━━━━━━\u001b[0m\u001b[37m\u001b[0m \u001b[1m2s\u001b[0m 3ms/step - loss: 1648.2706 - mae: 29.1272 - val_loss: 1306.8175 - val_mae: 26.5610\n",
      "Epoch 3/100\n",
      "\u001b[1m494/494\u001b[0m \u001b[32m━━━━━━━━━━━━━━━━━━━━\u001b[0m\u001b[37m\u001b[0m \u001b[1m1s\u001b[0m 3ms/step - loss: 1527.4011 - mae: 27.9759 - val_loss: 1270.6376 - val_mae: 25.8361\n",
      "Epoch 4/100\n",
      "\u001b[1m494/494\u001b[0m \u001b[32m━━━━━━━━━━━━━━━━━━━━\u001b[0m\u001b[37m\u001b[0m \u001b[1m1s\u001b[0m 3ms/step - loss: 1488.8550 - mae: 27.3559 - val_loss: 1262.8290 - val_mae: 24.1981\n",
      "Epoch 5/100\n",
      "\u001b[1m494/494\u001b[0m \u001b[32m━━━━━━━━━━━━━━━━━━━━\u001b[0m\u001b[37m\u001b[0m \u001b[1m1s\u001b[0m 3ms/step - loss: 1478.6095 - mae: 27.1065 - val_loss: 1181.4701 - val_mae: 24.6028\n",
      "Epoch 6/100\n",
      "\u001b[1m494/494\u001b[0m \u001b[32m━━━━━━━━━━━━━━━━━━━━\u001b[0m\u001b[37m\u001b[0m \u001b[1m1s\u001b[0m 3ms/step - loss: 1364.7885 - mae: 26.0411 - val_loss: 1221.4353 - val_mae: 23.5789\n",
      "Epoch 7/100\n",
      "\u001b[1m494/494\u001b[0m \u001b[32m━━━━━━━━━━━━━━━━━━━━\u001b[0m\u001b[37m\u001b[0m \u001b[1m1s\u001b[0m 3ms/step - loss: 1403.3317 - mae: 26.4799 - val_loss: 1175.5137 - val_mae: 24.9828\n",
      "Epoch 8/100\n",
      "\u001b[1m494/494\u001b[0m \u001b[32m━━━━━━━━━━━━━━━━━━━━\u001b[0m\u001b[37m\u001b[0m \u001b[1m2s\u001b[0m 3ms/step - loss: 1340.5795 - mae: 25.9688 - val_loss: 1147.2642 - val_mae: 23.6917\n",
      "Epoch 9/100\n",
      "\u001b[1m494/494\u001b[0m \u001b[32m━━━━━━━━━━━━━━━━━━━━\u001b[0m\u001b[37m\u001b[0m \u001b[1m2s\u001b[0m 3ms/step - loss: 1329.8794 - mae: 25.6433 - val_loss: 1209.3043 - val_mae: 23.2775\n",
      "Epoch 10/100\n",
      "\u001b[1m494/494\u001b[0m \u001b[32m━━━━━━━━━━━━━━━━━━━━\u001b[0m\u001b[37m\u001b[0m \u001b[1m2s\u001b[0m 3ms/step - loss: 1308.8903 - mae: 25.3577 - val_loss: 1136.0720 - val_mae: 23.3522\n",
      "Epoch 11/100\n",
      "\u001b[1m494/494\u001b[0m \u001b[32m━━━━━━━━━━━━━━━━━━━━\u001b[0m\u001b[37m\u001b[0m \u001b[1m2s\u001b[0m 3ms/step - loss: 1266.8047 - mae: 25.2062 - val_loss: 1115.7927 - val_mae: 24.1852\n",
      "Epoch 12/100\n",
      "\u001b[1m494/494\u001b[0m \u001b[32m━━━━━━━━━━━━━━━━━━━━\u001b[0m\u001b[37m\u001b[0m \u001b[1m3s\u001b[0m 3ms/step - loss: 1247.4153 - mae: 24.8237 - val_loss: 1101.6608 - val_mae: 22.9231\n",
      "Epoch 13/100\n",
      "\u001b[1m494/494\u001b[0m \u001b[32m━━━━━━━━━━━━━━━━━━━━\u001b[0m\u001b[37m\u001b[0m \u001b[1m1s\u001b[0m 3ms/step - loss: 1284.8734 - mae: 25.2060 - val_loss: 1071.4993 - val_mae: 23.6326\n",
      "Epoch 14/100\n",
      "\u001b[1m494/494\u001b[0m \u001b[32m━━━━━━━━━━━━━━━━━━━━\u001b[0m\u001b[37m\u001b[0m \u001b[1m1s\u001b[0m 3ms/step - loss: 1198.0936 - mae: 24.4658 - val_loss: 1053.1246 - val_mae: 23.5393\n",
      "Epoch 15/100\n",
      "\u001b[1m494/494\u001b[0m \u001b[32m━━━━━━━━━━━━━━━━━━━━\u001b[0m\u001b[37m\u001b[0m \u001b[1m2s\u001b[0m 3ms/step - loss: 1127.9971 - mae: 23.7035 - val_loss: 1038.3235 - val_mae: 22.3550\n",
      "Epoch 16/100\n",
      "\u001b[1m494/494\u001b[0m \u001b[32m━━━━━━━━━━━━━━━━━━━━\u001b[0m\u001b[37m\u001b[0m \u001b[1m1s\u001b[0m 3ms/step - loss: 1118.3313 - mae: 23.6672 - val_loss: 1068.1703 - val_mae: 24.0346\n",
      "Epoch 17/100\n",
      "\u001b[1m494/494\u001b[0m \u001b[32m━━━━━━━━━━━━━━━━━━━━\u001b[0m\u001b[37m\u001b[0m \u001b[1m1s\u001b[0m 3ms/step - loss: 1028.5128 - mae: 22.6047 - val_loss: 968.7524 - val_mae: 22.1659\n",
      "Epoch 18/100\n",
      "\u001b[1m494/494\u001b[0m \u001b[32m━━━━━━━━━━━━━━━━━━━━\u001b[0m\u001b[37m\u001b[0m \u001b[1m1s\u001b[0m 3ms/step - loss: 1068.2805 - mae: 23.1042 - val_loss: 933.9697 - val_mae: 21.6246\n",
      "Epoch 19/100\n",
      "\u001b[1m494/494\u001b[0m \u001b[32m━━━━━━━━━━━━━━━━━━━━\u001b[0m\u001b[37m\u001b[0m \u001b[1m1s\u001b[0m 3ms/step - loss: 980.4787 - mae: 22.2963 - val_loss: 950.6861 - val_mae: 21.7551\n",
      "Epoch 20/100\n",
      "\u001b[1m494/494\u001b[0m \u001b[32m━━━━━━━━━━━━━━━━━━━━\u001b[0m\u001b[37m\u001b[0m \u001b[1m2s\u001b[0m 3ms/step - loss: 984.4236 - mae: 22.3288 - val_loss: 925.6876 - val_mae: 22.2002\n",
      "Epoch 21/100\n",
      "\u001b[1m494/494\u001b[0m \u001b[32m━━━━━━━━━━━━━━━━━━━━\u001b[0m\u001b[37m\u001b[0m \u001b[1m2s\u001b[0m 3ms/step - loss: 934.2476 - mae: 21.8879 - val_loss: 921.5646 - val_mae: 22.0514\n",
      "Epoch 22/100\n",
      "\u001b[1m494/494\u001b[0m \u001b[32m━━━━━━━━━━━━━━━━━━━━\u001b[0m\u001b[37m\u001b[0m \u001b[1m2s\u001b[0m 3ms/step - loss: 876.3557 - mae: 21.2760 - val_loss: 1046.5698 - val_mae: 23.9418\n",
      "Epoch 23/100\n",
      "\u001b[1m494/494\u001b[0m \u001b[32m━━━━━━━━━━━━━━━━━━━━\u001b[0m\u001b[37m\u001b[0m \u001b[1m2s\u001b[0m 3ms/step - loss: 858.5593 - mae: 21.0941 - val_loss: 854.9476 - val_mae: 21.0016\n",
      "Epoch 24/100\n",
      "\u001b[1m494/494\u001b[0m \u001b[32m━━━━━━━━━━━━━━━━━━━━\u001b[0m\u001b[37m\u001b[0m \u001b[1m2s\u001b[0m 3ms/step - loss: 800.5167 - mae: 20.4076 - val_loss: 858.9738 - val_mae: 20.9434\n",
      "Epoch 25/100\n",
      "\u001b[1m494/494\u001b[0m \u001b[32m━━━━━━━━━━━━━━━━━━━━\u001b[0m\u001b[37m\u001b[0m \u001b[1m2s\u001b[0m 3ms/step - loss: 799.0305 - mae: 20.2944 - val_loss: 885.6288 - val_mae: 21.1456\n",
      "Epoch 26/100\n",
      "\u001b[1m494/494\u001b[0m \u001b[32m━━━━━━━━━━━━━━━━━━━━\u001b[0m\u001b[37m\u001b[0m \u001b[1m2s\u001b[0m 3ms/step - loss: 781.2463 - mae: 20.0384 - val_loss: 894.4997 - val_mae: 21.0106\n",
      "Epoch 27/100\n",
      "\u001b[1m494/494\u001b[0m \u001b[32m━━━━━━━━━━━━━━━━━━━━\u001b[0m\u001b[37m\u001b[0m \u001b[1m2s\u001b[0m 3ms/step - loss: 790.2509 - mae: 20.0929 - val_loss: 767.8825 - val_mae: 19.8691\n",
      "Epoch 28/100\n",
      "\u001b[1m494/494\u001b[0m \u001b[32m━━━━━━━━━━━━━━━━━━━━\u001b[0m\u001b[37m\u001b[0m \u001b[1m2s\u001b[0m 3ms/step - loss: 751.6180 - mae: 19.6194 - val_loss: 813.1795 - val_mae: 20.2567\n",
      "Epoch 29/100\n",
      "\u001b[1m494/494\u001b[0m \u001b[32m━━━━━━━━━━━━━━━━━━━━\u001b[0m\u001b[37m\u001b[0m \u001b[1m2s\u001b[0m 3ms/step - loss: 714.4908 - mae: 19.2802 - val_loss: 751.9286 - val_mae: 19.6103\n",
      "Epoch 30/100\n",
      "\u001b[1m494/494\u001b[0m \u001b[32m━━━━━━━━━━━━━━━━━━━━\u001b[0m\u001b[37m\u001b[0m \u001b[1m2s\u001b[0m 4ms/step - loss: 703.6414 - mae: 19.1300 - val_loss: 758.1998 - val_mae: 20.1253\n",
      "Epoch 31/100\n",
      "\u001b[1m494/494\u001b[0m \u001b[32m━━━━━━━━━━━━━━━━━━━━\u001b[0m\u001b[37m\u001b[0m \u001b[1m2s\u001b[0m 3ms/step - loss: 673.9172 - mae: 18.8425 - val_loss: 784.4996 - val_mae: 20.0838\n",
      "Epoch 32/100\n",
      "\u001b[1m494/494\u001b[0m \u001b[32m━━━━━━━━━━━━━━━━━━━━\u001b[0m\u001b[37m\u001b[0m \u001b[1m2s\u001b[0m 3ms/step - loss: 665.2361 - mae: 18.6173 - val_loss: 728.2611 - val_mae: 19.4736\n",
      "Epoch 33/100\n",
      "\u001b[1m494/494\u001b[0m \u001b[32m━━━━━━━━━━━━━━━━━━━━\u001b[0m\u001b[37m\u001b[0m \u001b[1m2s\u001b[0m 3ms/step - loss: 665.0444 - mae: 18.6123 - val_loss: 719.3086 - val_mae: 19.0721\n",
      "Epoch 34/100\n",
      "\u001b[1m494/494\u001b[0m \u001b[32m━━━━━━━━━━━━━━━━━━━━\u001b[0m\u001b[37m\u001b[0m \u001b[1m2s\u001b[0m 3ms/step - loss: 616.9377 - mae: 17.9229 - val_loss: 708.5839 - val_mae: 19.0600\n",
      "Epoch 35/100\n",
      "\u001b[1m494/494\u001b[0m \u001b[32m━━━━━━━━━━━━━━━━━━━━\u001b[0m\u001b[37m\u001b[0m \u001b[1m2s\u001b[0m 3ms/step - loss: 633.0777 - mae: 18.1494 - val_loss: 718.7369 - val_mae: 19.2009\n",
      "Epoch 36/100\n",
      "\u001b[1m494/494\u001b[0m \u001b[32m━━━━━━━━━━━━━━━━━━━━\u001b[0m\u001b[37m\u001b[0m \u001b[1m1s\u001b[0m 3ms/step - loss: 617.5944 - mae: 18.1638 - val_loss: 705.6684 - val_mae: 19.2293\n",
      "Epoch 37/100\n",
      "\u001b[1m494/494\u001b[0m \u001b[32m━━━━━━━━━━━━━━━━━━━━\u001b[0m\u001b[37m\u001b[0m \u001b[1m2s\u001b[0m 3ms/step - loss: 617.9236 - mae: 18.0572 - val_loss: 676.6611 - val_mae: 18.6857\n",
      "Epoch 38/100\n",
      "\u001b[1m494/494\u001b[0m \u001b[32m━━━━━━━━━━━━━━━━━━━━\u001b[0m\u001b[37m\u001b[0m \u001b[1m1s\u001b[0m 3ms/step - loss: 595.2554 - mae: 17.6851 - val_loss: 747.7336 - val_mae: 19.4189\n",
      "Epoch 39/100\n",
      "\u001b[1m494/494\u001b[0m \u001b[32m━━━━━━━━━━━━━━━━━━━━\u001b[0m\u001b[37m\u001b[0m \u001b[1m2s\u001b[0m 3ms/step - loss: 563.7195 - mae: 17.2750 - val_loss: 662.5765 - val_mae: 18.6866\n",
      "Epoch 40/100\n",
      "\u001b[1m494/494\u001b[0m \u001b[32m━━━━━━━━━━━━━━━━━━━━\u001b[0m\u001b[37m\u001b[0m \u001b[1m2s\u001b[0m 3ms/step - loss: 593.7379 - mae: 17.6618 - val_loss: 828.5012 - val_mae: 20.6478\n",
      "Epoch 41/100\n",
      "\u001b[1m494/494\u001b[0m \u001b[32m━━━━━━━━━━━━━━━━━━━━\u001b[0m\u001b[37m\u001b[0m \u001b[1m2s\u001b[0m 4ms/step - loss: 595.0402 - mae: 17.6765 - val_loss: 777.6109 - val_mae: 20.2888\n",
      "Epoch 42/100\n",
      "\u001b[1m494/494\u001b[0m \u001b[32m━━━━━━━━━━━━━━━━━━━━\u001b[0m\u001b[37m\u001b[0m \u001b[1m2s\u001b[0m 3ms/step - loss: 572.9371 - mae: 17.3419 - val_loss: 651.4213 - val_mae: 18.4581\n",
      "Epoch 43/100\n",
      "\u001b[1m494/494\u001b[0m \u001b[32m━━━━━━━━━━━━━━━━━━━━\u001b[0m\u001b[37m\u001b[0m \u001b[1m2s\u001b[0m 3ms/step - loss: 535.0342 - mae: 16.9535 - val_loss: 692.8546 - val_mae: 19.1107\n",
      "Epoch 44/100\n",
      "\u001b[1m494/494\u001b[0m \u001b[32m━━━━━━━━━━━━━━━━━━━━\u001b[0m\u001b[37m\u001b[0m \u001b[1m1s\u001b[0m 3ms/step - loss: 570.9523 - mae: 17.1652 - val_loss: 646.3522 - val_mae: 18.3015\n",
      "Epoch 45/100\n",
      "\u001b[1m494/494\u001b[0m \u001b[32m━━━━━━━━━━━━━━━━━━━━\u001b[0m\u001b[37m\u001b[0m \u001b[1m2s\u001b[0m 3ms/step - loss: 549.7792 - mae: 16.9705 - val_loss: 632.4818 - val_mae: 18.1966\n",
      "Epoch 46/100\n",
      "\u001b[1m494/494\u001b[0m \u001b[32m━━━━━━━━━━━━━━━━━━━━\u001b[0m\u001b[37m\u001b[0m \u001b[1m2s\u001b[0m 3ms/step - loss: 533.4536 - mae: 16.7968 - val_loss: 651.2704 - val_mae: 18.5225\n",
      "Epoch 47/100\n",
      "\u001b[1m494/494\u001b[0m \u001b[32m━━━━━━━━━━━━━━━━━━━━\u001b[0m\u001b[37m\u001b[0m \u001b[1m2s\u001b[0m 3ms/step - loss: 531.1257 - mae: 16.6705 - val_loss: 637.2873 - val_mae: 18.4408\n",
      "Epoch 48/100\n",
      "\u001b[1m494/494\u001b[0m \u001b[32m━━━━━━━━━━━━━━━━━━━━\u001b[0m\u001b[37m\u001b[0m \u001b[1m2s\u001b[0m 3ms/step - loss: 547.3514 - mae: 16.9932 - val_loss: 684.8960 - val_mae: 18.5200\n",
      "Epoch 49/100\n",
      "\u001b[1m494/494\u001b[0m \u001b[32m━━━━━━━━━━━━━━━━━━━━\u001b[0m\u001b[37m\u001b[0m \u001b[1m2s\u001b[0m 3ms/step - loss: 531.1779 - mae: 16.7647 - val_loss: 626.5359 - val_mae: 18.1686\n",
      "Epoch 50/100\n",
      "\u001b[1m494/494\u001b[0m \u001b[32m━━━━━━━━━━━━━━━━━━━━\u001b[0m\u001b[37m\u001b[0m \u001b[1m2s\u001b[0m 3ms/step - loss: 498.5697 - mae: 16.3980 - val_loss: 721.2367 - val_mae: 18.8415\n",
      "Epoch 51/100\n",
      "\u001b[1m494/494\u001b[0m \u001b[32m━━━━━━━━━━━━━━━━━━━━\u001b[0m\u001b[37m\u001b[0m \u001b[1m2s\u001b[0m 3ms/step - loss: 497.9252 - mae: 16.2817 - val_loss: 663.7688 - val_mae: 18.3939\n",
      "Epoch 52/100\n",
      "\u001b[1m494/494\u001b[0m \u001b[32m━━━━━━━━━━━━━━━━━━━━\u001b[0m\u001b[37m\u001b[0m \u001b[1m2s\u001b[0m 3ms/step - loss: 512.8436 - mae: 16.4903 - val_loss: 730.7903 - val_mae: 18.8592\n",
      "Epoch 53/100\n",
      "\u001b[1m494/494\u001b[0m \u001b[32m━━━━━━━━━━━━━━━━━━━━\u001b[0m\u001b[37m\u001b[0m \u001b[1m2s\u001b[0m 3ms/step - loss: 507.7906 - mae: 16.3299 - val_loss: 606.2119 - val_mae: 17.6794\n",
      "Epoch 54/100\n",
      "\u001b[1m494/494\u001b[0m \u001b[32m━━━━━━━━━━━━━━━━━━━━\u001b[0m\u001b[37m\u001b[0m \u001b[1m2s\u001b[0m 3ms/step - loss: 522.0753 - mae: 16.5446 - val_loss: 597.6765 - val_mae: 17.5016\n",
      "Epoch 55/100\n",
      "\u001b[1m494/494\u001b[0m \u001b[32m━━━━━━━━━━━━━━━━━━━━\u001b[0m\u001b[37m\u001b[0m \u001b[1m2s\u001b[0m 3ms/step - loss: 473.7577 - mae: 15.9195 - val_loss: 623.5363 - val_mae: 18.0270\n",
      "Epoch 56/100\n",
      "\u001b[1m494/494\u001b[0m \u001b[32m━━━━━━━━━━━━━━━━━━━━\u001b[0m\u001b[37m\u001b[0m \u001b[1m2s\u001b[0m 3ms/step - loss: 451.7007 - mae: 15.5967 - val_loss: 601.0145 - val_mae: 17.6153\n",
      "Epoch 57/100\n",
      "\u001b[1m494/494\u001b[0m \u001b[32m━━━━━━━━━━━━━━━━━━━━\u001b[0m\u001b[37m\u001b[0m \u001b[1m2s\u001b[0m 3ms/step - loss: 482.7468 - mae: 16.0298 - val_loss: 611.7435 - val_mae: 17.6191\n",
      "Epoch 58/100\n",
      "\u001b[1m494/494\u001b[0m \u001b[32m━━━━━━━━━━━━━━━━━━━━\u001b[0m\u001b[37m\u001b[0m \u001b[1m2s\u001b[0m 3ms/step - loss: 486.1103 - mae: 16.0172 - val_loss: 644.3846 - val_mae: 17.9908\n",
      "Epoch 59/100\n",
      "\u001b[1m494/494\u001b[0m \u001b[32m━━━━━━━━━━━━━━━━━━━━\u001b[0m\u001b[37m\u001b[0m \u001b[1m2s\u001b[0m 3ms/step - loss: 505.2050 - mae: 16.2457 - val_loss: 623.8666 - val_mae: 17.7774\n",
      "Epoch 60/100\n",
      "\u001b[1m494/494\u001b[0m \u001b[32m━━━━━━━━━━━━━━━━━━━━\u001b[0m\u001b[37m\u001b[0m \u001b[1m2s\u001b[0m 3ms/step - loss: 450.8230 - mae: 15.3695 - val_loss: 605.4329 - val_mae: 17.5437\n",
      "Epoch 61/100\n",
      "\u001b[1m494/494\u001b[0m \u001b[32m━━━━━━━━━━━━━━━━━━━━\u001b[0m\u001b[37m\u001b[0m \u001b[1m2s\u001b[0m 3ms/step - loss: 463.2399 - mae: 15.7918 - val_loss: 628.8212 - val_mae: 18.2177\n",
      "Epoch 62/100\n",
      "\u001b[1m494/494\u001b[0m \u001b[32m━━━━━━━━━━━━━━━━━━━━\u001b[0m\u001b[37m\u001b[0m \u001b[1m2s\u001b[0m 4ms/step - loss: 461.2895 - mae: 15.7427 - val_loss: 605.9696 - val_mae: 17.7429\n",
      "Epoch 63/100\n",
      "\u001b[1m494/494\u001b[0m \u001b[32m━━━━━━━━━━━━━━━━━━━━\u001b[0m\u001b[37m\u001b[0m \u001b[1m2s\u001b[0m 3ms/step - loss: 459.3307 - mae: 15.5627 - val_loss: 582.9244 - val_mae: 17.2547\n",
      "Epoch 64/100\n",
      "\u001b[1m494/494\u001b[0m \u001b[32m━━━━━━━━━━━━━━━━━━━━\u001b[0m\u001b[37m\u001b[0m \u001b[1m2s\u001b[0m 3ms/step - loss: 462.0683 - mae: 15.6382 - val_loss: 599.6869 - val_mae: 17.3457\n",
      "Epoch 65/100\n",
      "\u001b[1m494/494\u001b[0m \u001b[32m━━━━━━━━━━━━━━━━━━━━\u001b[0m\u001b[37m\u001b[0m \u001b[1m2s\u001b[0m 3ms/step - loss: 450.2868 - mae: 15.4977 - val_loss: 572.3342 - val_mae: 17.1506\n",
      "Epoch 66/100\n",
      "\u001b[1m494/494\u001b[0m \u001b[32m━━━━━━━━━━━━━━━━━━━━\u001b[0m\u001b[37m\u001b[0m \u001b[1m2s\u001b[0m 3ms/step - loss: 450.7797 - mae: 15.3482 - val_loss: 586.8879 - val_mae: 17.2856\n",
      "Epoch 67/100\n",
      "\u001b[1m494/494\u001b[0m \u001b[32m━━━━━━━━━━━━━━━━━━━━\u001b[0m\u001b[37m\u001b[0m \u001b[1m2s\u001b[0m 3ms/step - loss: 453.5792 - mae: 15.5061 - val_loss: 591.6542 - val_mae: 17.4325\n",
      "Epoch 68/100\n",
      "\u001b[1m494/494\u001b[0m \u001b[32m━━━━━━━━━━━━━━━━━━━━\u001b[0m\u001b[37m\u001b[0m \u001b[1m2s\u001b[0m 3ms/step - loss: 444.1920 - mae: 15.3548 - val_loss: 630.6043 - val_mae: 17.7450\n",
      "Epoch 69/100\n",
      "\u001b[1m494/494\u001b[0m \u001b[32m━━━━━━━━━━━━━━━━━━━━\u001b[0m\u001b[37m\u001b[0m \u001b[1m2s\u001b[0m 3ms/step - loss: 444.9961 - mae: 15.3916 - val_loss: 579.5240 - val_mae: 17.5243\n",
      "Epoch 70/100\n",
      "\u001b[1m494/494\u001b[0m \u001b[32m━━━━━━━━━━━━━━━━━━━━\u001b[0m\u001b[37m\u001b[0m \u001b[1m2s\u001b[0m 3ms/step - loss: 454.5529 - mae: 15.4688 - val_loss: 589.0778 - val_mae: 17.2371\n",
      "Epoch 71/100\n",
      "\u001b[1m494/494\u001b[0m \u001b[32m━━━━━━━━━━━━━━━━━━━━\u001b[0m\u001b[37m\u001b[0m \u001b[1m1s\u001b[0m 3ms/step - loss: 437.7535 - mae: 15.2010 - val_loss: 566.2016 - val_mae: 17.1136\n",
      "Epoch 72/100\n",
      "\u001b[1m494/494\u001b[0m \u001b[32m━━━━━━━━━━━━━━━━━━━━\u001b[0m\u001b[37m\u001b[0m \u001b[1m2s\u001b[0m 3ms/step - loss: 422.8581 - mae: 14.9536 - val_loss: 578.8339 - val_mae: 17.1401\n",
      "Epoch 73/100\n",
      "\u001b[1m494/494\u001b[0m \u001b[32m━━━━━━━━━━━━━━━━━━━━\u001b[0m\u001b[37m\u001b[0m \u001b[1m2s\u001b[0m 3ms/step - loss: 415.0064 - mae: 14.8117 - val_loss: 568.2070 - val_mae: 17.1593\n",
      "Epoch 74/100\n",
      "\u001b[1m494/494\u001b[0m \u001b[32m━━━━━━━━━━━━━━━━━━━━\u001b[0m\u001b[37m\u001b[0m \u001b[1m2s\u001b[0m 3ms/step - loss: 446.6412 - mae: 15.3386 - val_loss: 560.6695 - val_mae: 16.9722\n",
      "Epoch 75/100\n",
      "\u001b[1m494/494\u001b[0m \u001b[32m━━━━━━━━━━━━━━━━━━━━\u001b[0m\u001b[37m\u001b[0m \u001b[1m2s\u001b[0m 3ms/step - loss: 429.3133 - mae: 15.0588 - val_loss: 627.8646 - val_mae: 17.3740\n",
      "Epoch 76/100\n",
      "\u001b[1m494/494\u001b[0m \u001b[32m━━━━━━━━━━━━━━━━━━━━\u001b[0m\u001b[37m\u001b[0m \u001b[1m2s\u001b[0m 3ms/step - loss: 437.1704 - mae: 15.2188 - val_loss: 604.7383 - val_mae: 17.8367\n",
      "Epoch 77/100\n",
      "\u001b[1m494/494\u001b[0m \u001b[32m━━━━━━━━━━━━━━━━━━━━\u001b[0m\u001b[37m\u001b[0m \u001b[1m2s\u001b[0m 3ms/step - loss: 418.9827 - mae: 14.7184 - val_loss: 554.5967 - val_mae: 16.8815\n",
      "Epoch 78/100\n",
      "\u001b[1m494/494\u001b[0m \u001b[32m━━━━━━━━━━━━━━━━━━━━\u001b[0m\u001b[37m\u001b[0m \u001b[1m2s\u001b[0m 3ms/step - loss: 427.2571 - mae: 14.9862 - val_loss: 652.6667 - val_mae: 18.6014\n",
      "Epoch 79/100\n",
      "\u001b[1m494/494\u001b[0m \u001b[32m━━━━━━━━━━━━━━━━━━━━\u001b[0m\u001b[37m\u001b[0m \u001b[1m2s\u001b[0m 3ms/step - loss: 443.4149 - mae: 15.1875 - val_loss: 566.8876 - val_mae: 17.1855\n",
      "Epoch 80/100\n",
      "\u001b[1m494/494\u001b[0m \u001b[32m━━━━━━━━━━━━━━━━━━━━\u001b[0m\u001b[37m\u001b[0m \u001b[1m2s\u001b[0m 3ms/step - loss: 402.8435 - mae: 14.6622 - val_loss: 611.8842 - val_mae: 17.2561\n",
      "Epoch 81/100\n",
      "\u001b[1m494/494\u001b[0m \u001b[32m━━━━━━━━━━━━━━━━━━━━\u001b[0m\u001b[37m\u001b[0m \u001b[1m2s\u001b[0m 3ms/step - loss: 420.9113 - mae: 14.8553 - val_loss: 555.5096 - val_mae: 16.7705\n",
      "Epoch 82/100\n",
      "\u001b[1m494/494\u001b[0m \u001b[32m━━━━━━━━━━━━━━━━━━━━\u001b[0m\u001b[37m\u001b[0m \u001b[1m2s\u001b[0m 4ms/step - loss: 402.3236 - mae: 14.5940 - val_loss: 578.9230 - val_mae: 17.1783\n",
      "Epoch 83/100\n",
      "\u001b[1m494/494\u001b[0m \u001b[32m━━━━━━━━━━━━━━━━━━━━\u001b[0m\u001b[37m\u001b[0m \u001b[1m2s\u001b[0m 3ms/step - loss: 412.2081 - mae: 14.7229 - val_loss: 599.0781 - val_mae: 17.2332\n",
      "Epoch 84/100\n",
      "\u001b[1m494/494\u001b[0m \u001b[32m━━━━━━━━━━━━━━━━━━━━\u001b[0m\u001b[37m\u001b[0m \u001b[1m2s\u001b[0m 3ms/step - loss: 414.1691 - mae: 14.7687 - val_loss: 558.2890 - val_mae: 16.8136\n",
      "Epoch 85/100\n",
      "\u001b[1m494/494\u001b[0m \u001b[32m━━━━━━━━━━━━━━━━━━━━\u001b[0m\u001b[37m\u001b[0m \u001b[1m2s\u001b[0m 3ms/step - loss: 410.2427 - mae: 14.6767 - val_loss: 580.7590 - val_mae: 17.2481\n",
      "Epoch 86/100\n",
      "\u001b[1m494/494\u001b[0m \u001b[32m━━━━━━━━━━━━━━━━━━━━\u001b[0m\u001b[37m\u001b[0m \u001b[1m2s\u001b[0m 3ms/step - loss: 404.8740 - mae: 14.6781 - val_loss: 582.1093 - val_mae: 17.0060\n",
      "Epoch 87/100\n",
      "\u001b[1m494/494\u001b[0m \u001b[32m━━━━━━━━━━━━━━━━━━━━\u001b[0m\u001b[37m\u001b[0m \u001b[1m2s\u001b[0m 3ms/step - loss: 399.7000 - mae: 14.5797 - val_loss: 539.0865 - val_mae: 16.6053\n",
      "Epoch 88/100\n",
      "\u001b[1m494/494\u001b[0m \u001b[32m━━━━━━━━━━━━━━━━━━━━\u001b[0m\u001b[37m\u001b[0m \u001b[1m2s\u001b[0m 3ms/step - loss: 398.1456 - mae: 14.3981 - val_loss: 535.1438 - val_mae: 16.6025\n",
      "Epoch 89/100\n",
      "\u001b[1m494/494\u001b[0m \u001b[32m━━━━━━━━━━━━━━━━━━━━\u001b[0m\u001b[37m\u001b[0m \u001b[1m2s\u001b[0m 3ms/step - loss: 383.1214 - mae: 14.1209 - val_loss: 558.0546 - val_mae: 16.7958\n",
      "Epoch 90/100\n",
      "\u001b[1m494/494\u001b[0m \u001b[32m━━━━━━━━━━━━━━━━━━━━\u001b[0m\u001b[37m\u001b[0m \u001b[1m2s\u001b[0m 3ms/step - loss: 381.9719 - mae: 14.1805 - val_loss: 544.1431 - val_mae: 16.7438\n",
      "Epoch 91/100\n",
      "\u001b[1m494/494\u001b[0m \u001b[32m━━━━━━━━━━━━━━━━━━━━\u001b[0m\u001b[37m\u001b[0m \u001b[1m2s\u001b[0m 3ms/step - loss: 403.8168 - mae: 14.6446 - val_loss: 625.0961 - val_mae: 17.7612\n",
      "Epoch 92/100\n",
      "\u001b[1m494/494\u001b[0m \u001b[32m━━━━━━━━━━━━━━━━━━━━\u001b[0m\u001b[37m\u001b[0m \u001b[1m2s\u001b[0m 4ms/step - loss: 393.7316 - mae: 14.4101 - val_loss: 533.4201 - val_mae: 16.5978\n",
      "Epoch 93/100\n",
      "\u001b[1m494/494\u001b[0m \u001b[32m━━━━━━━━━━━━━━━━━━━━\u001b[0m\u001b[37m\u001b[0m \u001b[1m2s\u001b[0m 3ms/step - loss: 386.3694 - mae: 14.2615 - val_loss: 532.7375 - val_mae: 16.5706\n",
      "Epoch 94/100\n",
      "\u001b[1m494/494\u001b[0m \u001b[32m━━━━━━━━━━━━━━━━━━━━\u001b[0m\u001b[37m\u001b[0m \u001b[1m2s\u001b[0m 3ms/step - loss: 378.2043 - mae: 14.1504 - val_loss: 590.4238 - val_mae: 16.8398\n",
      "Epoch 95/100\n",
      "\u001b[1m494/494\u001b[0m \u001b[32m━━━━━━━━━━━━━━━━━━━━\u001b[0m\u001b[37m\u001b[0m \u001b[1m2s\u001b[0m 3ms/step - loss: 371.5780 - mae: 13.8857 - val_loss: 538.3203 - val_mae: 16.5075\n",
      "Epoch 96/100\n",
      "\u001b[1m494/494\u001b[0m \u001b[32m━━━━━━━━━━━━━━━━━━━━\u001b[0m\u001b[37m\u001b[0m \u001b[1m2s\u001b[0m 3ms/step - loss: 391.3035 - mae: 14.3328 - val_loss: 576.8041 - val_mae: 16.9275\n",
      "Epoch 97/100\n",
      "\u001b[1m494/494\u001b[0m \u001b[32m━━━━━━━━━━━━━━━━━━━━\u001b[0m\u001b[37m\u001b[0m \u001b[1m2s\u001b[0m 3ms/step - loss: 374.9338 - mae: 14.0216 - val_loss: 610.3672 - val_mae: 17.2828\n",
      "Epoch 98/100\n",
      "\u001b[1m494/494\u001b[0m \u001b[32m━━━━━━━━━━━━━━━━━━━━\u001b[0m\u001b[37m\u001b[0m \u001b[1m2s\u001b[0m 3ms/step - loss: 382.7878 - mae: 14.1152 - val_loss: 555.1735 - val_mae: 16.5096\n",
      "Epoch 99/100\n",
      "\u001b[1m494/494\u001b[0m \u001b[32m━━━━━━━━━━━━━━━━━━━━\u001b[0m\u001b[37m\u001b[0m \u001b[1m2s\u001b[0m 3ms/step - loss: 381.2036 - mae: 14.0925 - val_loss: 535.0874 - val_mae: 16.4124\n",
      "Epoch 100/100\n",
      "\u001b[1m494/494\u001b[0m \u001b[32m━━━━━━━━━━━━━━━━━━━━\u001b[0m\u001b[37m\u001b[0m \u001b[1m2s\u001b[0m 3ms/step - loss: 377.6989 - mae: 14.0859 - val_loss: 528.4587 - val_mae: 16.4163\n"
     ]
    }
   ],
   "source": [
    "# Model eğitimi\n",
    "history = model.fit(X_train_scaled, y_train, validation_data=(X_val_scaled, y_val), \n",
    "                    epochs=100, batch_size=32, verbose=1)"
   ]
  },
  {
   "cell_type": "code",
   "execution_count": 10,
   "id": "6c885abf-953b-44ed-a5b4-01bad941f602",
   "metadata": {
    "tags": []
   },
   "outputs": [
    {
     "name": "stdout",
     "output_type": "stream",
     "text": [
      "\u001b[1m382/382\u001b[0m \u001b[32m━━━━━━━━━━━━━━━━━━━━\u001b[0m\u001b[37m\u001b[0m \u001b[1m1s\u001b[0m 2ms/step\n"
     ]
    }
   ],
   "source": [
    "# Test verisi için tahminler\n",
    "X_test, y_test = prepare_data(test_df)\n",
    "X_test_scaled = scaler.transform(X_test.reshape(-1, X_test.shape[-1])).reshape(X_test.shape)\n",
    "test_predictions = model.predict(X_test_scaled).flatten()"
   ]
  },
  {
   "cell_type": "code",
   "execution_count": 11,
   "id": "9b765a51-b89a-4d52-b0c2-93f19ffaf156",
   "metadata": {
    "tags": []
   },
   "outputs": [],
   "source": [
    "# Her motor için son tahmin\n",
    "final_predictions = test_df.groupby('id').last().reset_index()\n",
    "final_predictions['RUL_predicted'] = test_predictions[-len(final_predictions):]\n",
    "final_predictions = pd.merge(final_predictions, truth_df, on='id', how='left')"
   ]
  },
  {
   "cell_type": "code",
   "execution_count": 13,
   "id": "fd9d83f6-a664-419f-868d-08cea3be8779",
   "metadata": {
    "tags": []
   },
   "outputs": [
    {
     "name": "stdout",
     "output_type": "stream",
     "text": [
      "Truth verisi sütunları: Index(['id', 'cycle'], dtype='object')\n",
      "Kullanılan true_rul_column: cycle\n"
     ]
    }
   ],
   "source": [
    "# Truth verisini kontrol et ve doğru sütun adını bul\n",
    "print(\"Truth verisi sütunları:\", truth_df.columns)\n",
    "\n",
    "# Truth verisindeki gerçek RUL değerlerini kullan\n",
    "if 'RUL' in truth_df.columns:\n",
    "    true_rul_column = 'RUL'\n",
    "elif 'cycle' in truth_df.columns:\n",
    "    true_rul_column = 'cycle'\n",
    "elif len(truth_df.columns) == 2:  # Eğer sadece iki sütun varsa\n",
    "    true_rul_column = truth_df.columns[1]  # İkinci sütunu kullan (ilki muhtemelen 'id')\n",
    "else:\n",
    "    raise ValueError(\"Truth verisinde uygun RUL veya cycle sütunu bulunamadı.\")\n",
    "\n",
    "print(f\"Kullanılan true_rul_column: {true_rul_column}\")"
   ]
  },
  {
   "cell_type": "code",
   "execution_count": 14,
   "id": "353f368d-0dad-453f-9be3-f91bfb93cba2",
   "metadata": {
    "tags": []
   },
   "outputs": [],
   "source": [
    "# Eğer true_rul_column final_predictions'da yoksa, truth_df'den ekleyelim\n",
    "if true_rul_column not in final_predictions.columns:\n",
    "    final_predictions = pd.merge(final_predictions, truth_df, on='id', how='left')\n",
    "\n",
    "# Veri tipini float'a çevir\n",
    "final_predictions[true_rul_column] = final_predictions[true_rul_column].astype(float)"
   ]
  },
  {
   "cell_type": "code",
   "execution_count": 15,
   "id": "d1410f22-978b-46e9-a5e4-db3e0680fbce",
   "metadata": {
    "tags": []
   },
   "outputs": [
    {
     "name": "stdout",
     "output_type": "stream",
     "text": [
      "Root Mean Squared Error: 53.9999\n",
      "R-squared Score: -0.6886\n"
     ]
    }
   ],
   "source": [
    "# Performans değerlendirme\n",
    "mse = mean_squared_error(final_predictions[true_rul_column], final_predictions['RUL_predicted'])\n",
    "rmse = np.sqrt(mse)\n",
    "r2 = r2_score(final_predictions[true_rul_column], final_predictions['RUL_predicted'])\n",
    "\n",
    "print(f'Root Mean Squared Error: {rmse:.4f}')\n",
    "print(f'R-squared Score: {r2:.4f}')"
   ]
  },
  {
   "cell_type": "code",
   "execution_count": 16,
   "id": "170174e9-4d95-4ce6-9955-23387d64d805",
   "metadata": {
    "tags": []
   },
   "outputs": [
    {
     "data": {
      "image/png": "[encoded data removed]",
      "text/plain": [
       "<Figure size 1000x600 with 1 Axes>"
      ]
     },
     "metadata": {},
     "output_type": "display_data"
    }
   ],
   "source": [
    "# Tahmin vs Gerçek değer grafiği\n",
    "plt.figure(figsize=(10, 6))\n",
    "plt.scatter(final_predictions[true_rul_column], final_predictions['RUL_predicted'])\n",
    "plt.plot([0, 250], [0, 250], 'r--')\n",
    "plt.xlabel('Gerçek RUL')\n",
    "plt.ylabel('Tahmin Edilen RUL')\n",
    "plt.title('CNN Model Performansı')\n",
    "plt.show()"
   ]
  },
  {
   "cell_type": "code",
   "execution_count": 17,
   "id": "005056f9-d825-47a3-bbd3-ab1f82523860",
   "metadata": {
    "tags": []
   },
   "outputs": [
    {
     "data": {
      "image/png": "[encoded data removed]",
      "text/plain": [
       "<Figure size 1000x600 with 1 Axes>"
      ]
     },
     "metadata": {},
     "output_type": "display_data"
    }
   ],
   "source": [
    "# Hata analizi\n",
    "final_predictions['error'] = final_predictions[true_rul_column] - final_predictions['RUL_predicted']\n",
    "plt.figure(figsize=(10, 6))\n",
    "sns.histplot(final_predictions['error'], kde=True)\n",
    "plt.title('Hata Dağılımı')\n",
    "plt.xlabel('Hata')\n",
    "plt.show()"
   ]
  },
  {
   "cell_type": "code",
   "execution_count": 19,
   "id": "203e9efa-a203-42ed-a1c7-4b903690acb4",
   "metadata": {
    "tags": []
   },
   "outputs": [
    {
     "name": "stdout",
     "output_type": "stream",
     "text": [
      "\n",
      "Bakım Tahminleri:\n",
      "Motor ID 1: İyi durumda. Tahmini kalan süre: 136 saat.\n",
      "Motor ID 2: İyi durumda. Tahmini kalan süre: 177 saat.\n",
      "Motor ID 3: İyi durumda. Tahmini kalan süre: 156 saat.\n",
      "Motor ID 4: İyi durumda. Tahmini kalan süre: 151 saat.\n",
      "Motor ID 5: İyi durumda. Tahmini kalan süre: 132 saat.\n",
      "Motor ID 6: Bakım planlanmalı. Tahmini kalan süre: 97 saat.\n",
      "Motor ID 7: Bakım planlanmalı. Tahmini kalan süre: 91 saat.\n",
      "Motor ID 8: Bakım planlanmalı. Tahmini kalan süre: 84 saat.\n",
      "Motor ID 9: İyi durumda. Tahmini kalan süre: 100 saat.\n",
      "Motor ID 10: İyi durumda. Tahmini kalan süre: 104 saat.\n",
      "Motor ID 11: Bakım planlanmalı. Tahmini kalan süre: 99 saat.\n",
      "Motor ID 12: Bakım planlanmalı. Tahmini kalan süre: 96 saat.\n",
      "Motor ID 13: İyi durumda. Tahmini kalan süre: 110 saat.\n",
      "Motor ID 14: İyi durumda. Tahmini kalan süre: 101 saat.\n",
      "Motor ID 15: İyi durumda. Tahmini kalan süre: 116 saat.\n",
      "Motor ID 16: Bakım planlanmalı. Tahmini kalan süre: 98 saat.\n",
      "Motor ID 17: İyi durumda. Tahmini kalan süre: 153 saat.\n",
      "Motor ID 18: Bakım planlanmalı. Tahmini kalan süre: 98 saat.\n",
      "Motor ID 19: İyi durumda. Tahmini kalan süre: 160 saat.\n",
      "Motor ID 20: İyi durumda. Tahmini kalan süre: 113 saat.\n",
      "Motor ID 21: İyi durumda. Tahmini kalan süre: 133 saat.\n",
      "Motor ID 22: İyi durumda. Tahmini kalan süre: 115 saat.\n",
      "Motor ID 23: İyi durumda. Tahmini kalan süre: 110 saat.\n",
      "Motor ID 24: Bakım planlanmalı. Tahmini kalan süre: 87 saat.\n",
      "Motor ID 25: İyi durumda. Tahmini kalan süre: 119 saat.\n",
      "Motor ID 26: İyi durumda. Tahmini kalan süre: 121 saat.\n",
      "Motor ID 27: İyi durumda. Tahmini kalan süre: 117 saat.\n",
      "Motor ID 28: İyi durumda. Tahmini kalan süre: 130 saat.\n",
      "Motor ID 29: Bakım planlanmalı. Tahmini kalan süre: 89 saat.\n",
      "Motor ID 30: Bakım planlanmalı. Tahmini kalan süre: 92 saat.\n",
      "Motor ID 31: Bakım planlanmalı. Tahmini kalan süre: 59 saat.\n",
      "Motor ID 32: Bakım planlanmalı. Tahmini kalan süre: 84 saat.\n",
      "Motor ID 33: Bakım planlanmalı. Tahmini kalan süre: 63 saat.\n",
      "Motor ID 34: Bakım planlanmalı. Tahmini kalan süre: 63 saat.\n",
      "Motor ID 35: Bakım planlanmalı. Tahmini kalan süre: 82 saat.\n",
      "Motor ID 36: Bakım planlanmalı. Tahmini kalan süre: 66 saat.\n",
      "Motor ID 37: Bakım planlanmalı. Tahmini kalan süre: 70 saat.\n",
      "Motor ID 38: DİKKAT! Yakın zamanda bakım gerekli. Tahmini kalan süre: 46 saat.\n",
      "Motor ID 39: Bakım planlanmalı. Tahmini kalan süre: 67 saat.\n",
      "Motor ID 40: Bakım planlanmalı. Tahmini kalan süre: 65 saat.\n",
      "Motor ID 41: Bakım planlanmalı. Tahmini kalan süre: 85 saat.\n",
      "Motor ID 42: Bakım planlanmalı. Tahmini kalan süre: 86 saat.\n",
      "Motor ID 43: İyi durumda. Tahmini kalan süre: 104 saat.\n",
      "Motor ID 44: Bakım planlanmalı. Tahmini kalan süre: 87 saat.\n",
      "Motor ID 45: Bakım planlanmalı. Tahmini kalan süre: 89 saat.\n",
      "Motor ID 46: Bakım planlanmalı. Tahmini kalan süre: 95 saat.\n",
      "Motor ID 47: Bakım planlanmalı. Tahmini kalan süre: 90 saat.\n",
      "Motor ID 48: Bakım planlanmalı. Tahmini kalan süre: 82 saat.\n",
      "Motor ID 49: Bakım planlanmalı. Tahmini kalan süre: 80 saat.\n",
      "Motor ID 50: Bakım planlanmalı. Tahmini kalan süre: 77 saat.\n",
      "Motor ID 51: Bakım planlanmalı. Tahmini kalan süre: 92 saat.\n",
      "Motor ID 52: Bakım planlanmalı. Tahmini kalan süre: 80 saat.\n",
      "Motor ID 53: Bakım planlanmalı. Tahmini kalan süre: 95 saat.\n",
      "Motor ID 54: İyi durumda. Tahmini kalan süre: 103 saat.\n",
      "Motor ID 55: Bakım planlanmalı. Tahmini kalan süre: 73 saat.\n",
      "Motor ID 56: Bakım planlanmalı. Tahmini kalan süre: 88 saat.\n",
      "Motor ID 57: Bakım planlanmalı. Tahmini kalan süre: 70 saat.\n",
      "Motor ID 58: Bakım planlanmalı. Tahmini kalan süre: 51 saat.\n",
      "Motor ID 59: Bakım planlanmalı. Tahmini kalan süre: 57 saat.\n",
      "Motor ID 60: Bakım planlanmalı. Tahmini kalan süre: 52 saat.\n",
      "Motor ID 61: Bakım planlanmalı. Tahmini kalan süre: 56 saat.\n",
      "Motor ID 62: DİKKAT! Yakın zamanda bakım gerekli. Tahmini kalan süre: 49 saat.\n",
      "Motor ID 63: Bakım planlanmalı. Tahmini kalan süre: 53 saat.\n",
      "Motor ID 64: Bakım planlanmalı. Tahmini kalan süre: 53 saat.\n",
      "Motor ID 65: Bakım planlanmalı. Tahmini kalan süre: 55 saat.\n",
      "Motor ID 66: Bakım planlanmalı. Tahmini kalan süre: 58 saat.\n",
      "Motor ID 67: Bakım planlanmalı. Tahmini kalan süre: 62 saat.\n",
      "Motor ID 68: Bakım planlanmalı. Tahmini kalan süre: 57 saat.\n",
      "Motor ID 69: Bakım planlanmalı. Tahmini kalan süre: 58 saat.\n",
      "Motor ID 70: DİKKAT! Yakın zamanda bakım gerekli. Tahmini kalan süre: 49 saat.\n",
      "Motor ID 71: Bakım planlanmalı. Tahmini kalan süre: 57 saat.\n",
      "Motor ID 72: DİKKAT! Yakın zamanda bakım gerekli. Tahmini kalan süre: 39 saat.\n",
      "Motor ID 73: DİKKAT! Yakın zamanda bakım gerekli. Tahmini kalan süre: 46 saat.\n",
      "Motor ID 74: DİKKAT! Yakın zamanda bakım gerekli. Tahmini kalan süre: 39 saat.\n",
      "Motor ID 75: DİKKAT! Yakın zamanda bakım gerekli. Tahmini kalan süre: 34 saat.\n",
      "Motor ID 76: DİKKAT! Yakın zamanda bakım gerekli. Tahmini kalan süre: 28 saat.\n",
      "Motor ID 77: DİKKAT! Yakın zamanda bakım gerekli. Tahmini kalan süre: 41 saat.\n",
      "Motor ID 78: DİKKAT! Yakın zamanda bakım gerekli. Tahmini kalan süre: 32 saat.\n",
      "Motor ID 79: Bakım planlanmalı. Tahmini kalan süre: 50 saat.\n",
      "Motor ID 80: DİKKAT! Yakın zamanda bakım gerekli. Tahmini kalan süre: 34 saat.\n",
      "Motor ID 81: Bakım planlanmalı. Tahmini kalan süre: 52 saat.\n",
      "Motor ID 82: DİKKAT! Yakın zamanda bakım gerekli. Tahmini kalan süre: 34 saat.\n",
      "Motor ID 83: DİKKAT! Yakın zamanda bakım gerekli. Tahmini kalan süre: 33 saat.\n",
      "Motor ID 84: DİKKAT! Yakın zamanda bakım gerekli. Tahmini kalan süre: 27 saat.\n",
      "Motor ID 85: DİKKAT! Yakın zamanda bakım gerekli. Tahmini kalan süre: 31 saat.\n",
      "Motor ID 86: DİKKAT! Yakın zamanda bakım gerekli. Tahmini kalan süre: 28 saat.\n",
      "Motor ID 87: DİKKAT! Yakın zamanda bakım gerekli. Tahmini kalan süre: 24 saat.\n",
      "Motor ID 88: DİKKAT! Yakın zamanda bakım gerekli. Tahmini kalan süre: 30 saat.\n",
      "Motor ID 89: DİKKAT! Yakın zamanda bakım gerekli. Tahmini kalan süre: 19 saat.\n",
      "Motor ID 90: DİKKAT! Yakın zamanda bakım gerekli. Tahmini kalan süre: 31 saat.\n",
      "Motor ID 91: DİKKAT! Yakın zamanda bakım gerekli. Tahmini kalan süre: 18 saat.\n",
      "Motor ID 92: DİKKAT! Yakın zamanda bakım gerekli. Tahmini kalan süre: 25 saat.\n",
      "Motor ID 93: DİKKAT! Yakın zamanda bakım gerekli. Tahmini kalan süre: 21 saat.\n",
      "Motor ID 94: DİKKAT! Yakın zamanda bakım gerekli. Tahmini kalan süre: 25 saat.\n",
      "Motor ID 95: DİKKAT! Yakın zamanda bakım gerekli. Tahmini kalan süre: 20 saat.\n",
      "Motor ID 96: DİKKAT! Yakın zamanda bakım gerekli. Tahmini kalan süre: 25 saat.\n",
      "Motor ID 97: DİKKAT! Yakın zamanda bakım gerekli. Tahmini kalan süre: 19 saat.\n",
      "Motor ID 98: DİKKAT! Yakın zamanda bakım gerekli. Tahmini kalan süre: 26 saat.\n",
      "Motor ID 99: DİKKAT! Yakın zamanda bakım gerekli. Tahmini kalan süre: 18 saat.\n",
      "Motor ID 100: DİKKAT! Yakın zamanda bakım gerekli. Tahmini kalan süre: 17 saat.\n"
     ]
    }
   ],
   "source": [
    "# Bakım tahminleri\n",
    "def format_maintenance_prediction(row):\n",
    "    id = row['id']\n",
    "    predicted_rul = row['RUL_predicted']\n",
    "    hours = round(predicted_rul)\n",
    "    if hours <= 0:\n",
    "        return f\"Motor ID {id}: ACİL BAKIM GEREKLİ! Tahmini kalan ömür süresi aşılmış.\"\n",
    "    elif hours < 50:\n",
    "        return f\"Motor ID {id}: DİKKAT! Yakın zamanda bakım gerekli. Tahmini kalan süre: {hours} saat.\"\n",
    "    elif hours < 100:\n",
    "        return f\"Motor ID {id}: Bakım planlanmalı. Tahmini kalan süre: {hours} saat.\"\n",
    "    else:\n",
    "        return f\"Motor ID {id}: İyi durumda. Tahmini kalan süre: {hours} saat.\"\n",
    "\n",
    "final_predictions['maintenance_message'] = final_predictions.apply(format_maintenance_prediction, axis=1)\n",
    "\n",
    "print(\"\\nBakım Tahminleri:\")\n",
    "for message in final_predictions['maintenance_message']:\n",
    "    print(message)"
   ]
  },
  {
   "cell_type": "code",
   "execution_count": 20,
   "id": "181615dd-5bdd-49ce-bee3-02c2cab7198a",
   "metadata": {
    "tags": []
   },
   "outputs": [],
   "source": [
    "# Accuracy hesaplama\n",
    "from sklearn.metrics import accuracy_score, confusion_matrix, classification_report"
   ]
  },
  {
   "cell_type": "code",
   "execution_count": 21,
   "id": "5ed6eaa0-cd50-4c22-ab8e-9eb1f38a48fe",
   "metadata": {
    "tags": []
   },
   "outputs": [
    {
     "name": "stdout",
     "output_type": "stream",
     "text": [
      "\n",
      "Accuracy: 0.5900\n",
      "\n",
      "Confusion Matrix:\n",
      "[[ 7 26]\n",
      " [15 52]]\n",
      "\n",
      "Classification Report:\n",
      "              precision    recall  f1-score   support\n",
      "\n",
      "           0       0.32      0.21      0.25        33\n",
      "           1       0.67      0.78      0.72        67\n",
      "\n",
      "    accuracy                           0.59       100\n",
      "   macro avg       0.49      0.49      0.49       100\n",
      "weighted avg       0.55      0.59      0.56       100\n",
      "\n"
     ]
    }
   ],
   "source": [
    "def calculate_accuracy(y_true, y_pred, threshold=100):\n",
    "    y_true_class = (y_true <= threshold).astype(int)\n",
    "    y_pred_class = (y_pred <= threshold).astype(int)\n",
    "    accuracy = accuracy_score(y_true_class, y_pred_class)\n",
    "    conf_matrix = confusion_matrix(y_true_class, y_pred_class)\n",
    "    class_report = classification_report(y_true_class, y_pred_class)\n",
    "    return accuracy, conf_matrix, class_report\n",
    "\n",
    "y_true = final_predictions[true_rul_column].values\n",
    "y_pred = final_predictions['RUL_predicted'].values\n",
    "\n",
    "accuracy, conf_matrix, class_report = calculate_accuracy(y_true, y_pred)\n",
    "print(f\"\\nAccuracy: {accuracy:.4f}\")\n",
    "print(\"\\nConfusion Matrix:\")\n",
    "print(conf_matrix)\n",
    "print(\"\\nClassification Report:\")\n",
    "print(class_report)"
   ]
  },
  {
   "cell_type": "code",
   "execution_count": 22,
   "id": "6fb94a07-fb79-4aa5-8aea-a1aa034fc951",
   "metadata": {
    "tags": []
   },
   "outputs": [
    {
     "name": "stdout",
     "output_type": "stream",
     "text": [
      "Accuracy (threshold=50): 0.5500\n",
      "Accuracy (threshold=100): 0.5900\n",
      "Accuracy (threshold=150): 0.9500\n",
      "Accuracy (threshold=200): 1.0000\n"
     ]
    },
    {
     "name": "stderr",
     "output_type": "stream",
     "text": [
      "C:\\ProgramData\\Anaconda3\\Lib\\site-packages\\sklearn\\metrics\\_classification.py:1469: UndefinedMetricWarning: Recall and F-score are ill-defined and being set to 0.0 in labels with no true samples. Use `zero_division` parameter to control this behavior.\n",
      "  _warn_prf(average, modifier, msg_start, len(result))\n",
      "C:\\ProgramData\\Anaconda3\\Lib\\site-packages\\sklearn\\metrics\\_classification.py:1469: UndefinedMetricWarning: Recall and F-score are ill-defined and being set to 0.0 in labels with no true samples. Use `zero_division` parameter to control this behavior.\n",
      "  _warn_prf(average, modifier, msg_start, len(result))\n",
      "C:\\ProgramData\\Anaconda3\\Lib\\site-packages\\sklearn\\metrics\\_classification.py:1469: UndefinedMetricWarning: Recall and F-score are ill-defined and being set to 0.0 in labels with no true samples. Use `zero_division` parameter to control this behavior.\n",
      "  _warn_prf(average, modifier, msg_start, len(result))\n"
     ]
    }
   ],
   "source": [
    "# Farklı eşik değerleri için accuracy hesapla\n",
    "thresholds = [50, 100, 150, 200]\n",
    "for threshold in thresholds:\n",
    "    acc, _, _ = calculate_accuracy(y_true, y_pred, threshold)\n",
    "    print(f\"Accuracy (threshold={threshold}): {acc:.4f}\")\n",
    "\n",
    "# Sonuçları kaydet\n",
    "final_predictions.to_csv('cnn_predictions.csv', index=False)"
   ]
  },
  {
   "cell_type": "code",
   "execution_count": null,
   "id": "c0207020-2c31-4da3-b204-0b22fba17305",
   "metadata": {},
   "outputs": [],
   "source": []
  }
 ],
 "metadata": {
  "kernelspec": {
   "display_name": "Python 3 (ipykernel)",
   "language": "python",
   "name": "python3"
  },
  "language_info": {
   "codemirror_mode": {
    "name": "ipython",
    "version": 3
   },
   "file_extension": ".py",
   "mimetype": "text/x-python",
   "name": "python",
   "nbconvert_exporter": "python",
   "pygments_lexer": "ipython3",
   "version": "3.11.5"
  }
 },
 "nbformat": 4,
 "nbformat_minor": 5
}
